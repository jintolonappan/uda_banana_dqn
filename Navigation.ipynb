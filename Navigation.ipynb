{
 "cells": [
  {
   "cell_type": "markdown",
   "metadata": {},
   "source": [
    "# Navigation\n",
    "\n",
    "---\n",
    "\n",
    "In this notebook, you will learn how to use the Unity ML-Agents environment for the first project of the [Deep Reinforcement Learning Nanodegree](https://www.udacity.com/course/deep-reinforcement-learning-nanodegree--nd893).\n",
    "\n",
    "### 1. Start the Environment\n",
    "\n",
    "We begin by importing some necessary packages.  If the code cell below returns an error, please revisit the project instructions to double-check that you have installed [Unity ML-Agents](https://github.com/Unity-Technologies/ml-agents/blob/master/docs/Installation.md) and [NumPy](http://www.numpy.org/)."
   ]
  },
  {
   "cell_type": "code",
   "execution_count": 1,
   "metadata": {},
   "outputs": [],
   "source": [
    "from unityagents import UnityEnvironment\n",
    "import numpy as np"
   ]
  },
  {
   "cell_type": "markdown",
   "metadata": {},
   "source": [
    "Next, we will start the environment!  **_Before running the code cell below_**, change the `file_name` parameter to match the location of the Unity environment that you downloaded.\n",
    "\n",
    "- **Mac**: `\"path/to/Banana.app\"`\n",
    "- **Windows** (x86): `\"path/to/Banana_Windows_x86/Banana.exe\"`\n",
    "- **Windows** (x86_64): `\"path/to/Banana_Windows_x86_64/Banana.exe\"`\n",
    "- **Linux** (x86): `\"path/to/Banana_Linux/Banana.x86\"`\n",
    "- **Linux** (x86_64): `\"path/to/Banana_Linux/Banana.x86_64\"`\n",
    "- **Linux** (x86, headless): `\"path/to/Banana_Linux_NoVis/Banana.x86\"`\n",
    "- **Linux** (x86_64, headless): `\"path/to/Banana_Linux_NoVis/Banana.x86_64\"`\n",
    "\n",
    "For instance, if you are using a Mac, then you downloaded `Banana.app`.  If this file is in the same folder as the notebook, then the line below should appear as follows:\n",
    "```\n",
    "env = UnityEnvironment(file_name=\"Banana.app\")\n",
    "```"
   ]
  },
  {
   "cell_type": "code",
   "execution_count": 2,
   "metadata": {},
   "outputs": [
    {
     "name": "stderr",
     "output_type": "stream",
     "text": [
      "INFO:unityagents:\n",
      "'Academy' started successfully!\n",
      "Unity Academy name: Academy\n",
      "        Number of Brains: 1\n",
      "        Number of External Brains : 1\n",
      "        Lesson number : 0\n",
      "        Reset Parameters :\n",
      "\t\t\n",
      "Unity brain name: BananaBrain\n",
      "        Number of Visual Observations (per agent): 0\n",
      "        Vector Observation space type: continuous\n",
      "        Vector Observation space size (per agent): 37\n",
      "        Number of stacked Vector Observation: 1\n",
      "        Vector Action space type: discrete\n",
      "        Vector Action space size (per agent): 4\n",
      "        Vector Action descriptions: , , , \n"
     ]
    }
   ],
   "source": [
    "env = UnityEnvironment(file_name=\"/home/jinto/code/machlearn/udacity/deep-reinforcement-learning/p1_navigation/Banana_Linux/Banana.x86\")"
   ]
  },
  {
   "cell_type": "markdown",
   "metadata": {},
   "source": [
    "Environments contain **_brains_** which are responsible for deciding the actions of their associated agents. Here we check for the first brain available, and set it as the default brain we will be controlling from Python."
   ]
  },
  {
   "cell_type": "code",
   "execution_count": 3,
   "metadata": {},
   "outputs": [],
   "source": [
    "# get the default brain\n",
    "brain_name = env.brain_names[0]\n",
    "brain = env.brains[brain_name]"
   ]
  },
  {
   "cell_type": "markdown",
   "metadata": {},
   "source": [
    "### 2. Examine the State and Action Spaces\n",
    "\n",
    "The simulation contains a single agent that navigates a large environment.  At each time step, it has four actions at its disposal:\n",
    "- `0` - walk forward \n",
    "- `1` - walk backward\n",
    "- `2` - turn left\n",
    "- `3` - turn right\n",
    "\n",
    "The state space has `37` dimensions and contains the agent's velocity, along with ray-based perception of objects around agent's forward direction.  A reward of `+1` is provided for collecting a yellow banana, and a reward of `-1` is provided for collecting a blue banana. \n",
    "\n",
    "Run the code cell below to print some information about the environment."
   ]
  },
  {
   "cell_type": "code",
   "execution_count": 4,
   "metadata": {},
   "outputs": [
    {
     "name": "stdout",
     "output_type": "stream",
     "text": [
      "Number of agents: 1\n",
      "Number of actions: 4\n",
      "States look like: [1.         0.         0.         0.         0.84408134 0.\n",
      " 0.         1.         0.         0.0748472  0.         1.\n",
      " 0.         0.         0.25755    1.         0.         0.\n",
      " 0.         0.74177343 0.         1.         0.         0.\n",
      " 0.25854847 0.         0.         1.         0.         0.09355672\n",
      " 0.         1.         0.         0.         0.31969345 0.\n",
      " 0.        ]\n",
      "States have length: 37\n"
     ]
    }
   ],
   "source": [
    "# reset the environment\n",
    "env_info = env.reset(train_mode=True)[brain_name]\n",
    "\n",
    "# number of agents in the environment\n",
    "print('Number of agents:', len(env_info.agents))\n",
    "\n",
    "# number of actions\n",
    "action_size = brain.vector_action_space_size\n",
    "print('Number of actions:', action_size)\n",
    "\n",
    "# examine the state space \n",
    "state = env_info.vector_observations[0]\n",
    "print('States look like:', state)\n",
    "state_size = len(state)\n",
    "print('States have length:', state_size)"
   ]
  },
  {
   "cell_type": "markdown",
   "metadata": {},
   "source": [
    "### 3. Take Random Actions in the Environment\n",
    "\n",
    "In the next code cell, you will learn how to use the Python API to control the agent and receive feedback from the environment.\n",
    "\n",
    "Once this cell is executed, you will watch the agent's performance, if it selects an action (uniformly) at random with each time step.  A window should pop up that allows you to observe the agent, as it moves through the environment.  \n",
    "\n",
    "Of course, as part of the project, you'll have to change the code so that the agent is able to use its experience to gradually choose better actions when interacting with the environment!"
   ]
  },
  {
   "cell_type": "code",
   "execution_count": 5,
   "metadata": {},
   "outputs": [],
   "source": [
    "# env_info = env.reset(train_mode=False)[brain_name] # reset the environment\n",
    "# state = env_info.vector_observations[0]            # get the current state\n",
    "# score = 0                                          # initialize the score\n",
    "# while True:\n",
    "#     action = np.random.randint(action_size)        # select an action\n",
    "#     env_info = env.step(action)[brain_name]        # send the action to the environment\n",
    "#     next_state = env_info.vector_observations[0]   # get the next state\n",
    "#     reward = env_info.rewards[0]                   # get the reward\n",
    "#     done = env_info.local_done[0]                  # see if episode has finished\n",
    "#     score += reward                                # update the score\n",
    "#     state = next_state                             # roll over the state to next time step\n",
    "#     if done:                                       # exit loop if episode finished\n",
    "#         break\n",
    "    \n",
    "# print(\"Score: {}\".format(score))"
   ]
  },
  {
   "cell_type": "markdown",
   "metadata": {},
   "source": [
    "When finished, you can close the environment."
   ]
  },
  {
   "cell_type": "code",
   "execution_count": 6,
   "metadata": {},
   "outputs": [],
   "source": [
    "# env.close()"
   ]
  },
  {
   "cell_type": "markdown",
   "metadata": {},
   "source": [
    "### 4. It's Your Turn!\n",
    "\n",
    "Now it's your turn to train your own agent to solve the environment!  When training the environment, set `train_mode=True`, so that the line for resetting the environment looks like the following:\n",
    "```python\n",
    "env_info = env.reset(train_mode=True)[brain_name]\n",
    "```"
   ]
  },
  {
   "cell_type": "code",
   "execution_count": 7,
   "metadata": {},
   "outputs": [],
   "source": [
    "import datetime\n",
    "import math\n",
    "import random\n",
    "from collections import namedtuple\n",
    "from itertools import count\n",
    "\n",
    "import gym\n",
    "import matplotlib.pyplot as plt\n",
    "import numpy as np\n",
    "import torch\n",
    "import torch.nn as nn\n",
    "import torch.optim as optim\n",
    "import torch.nn.functional as F\n",
    "from pytictoc import TicToc\n",
    "\n",
    "%matplotlib inline"
   ]
  },
  {
   "cell_type": "markdown",
   "metadata": {},
   "source": [
    "Based on DQN example available at\n",
    "https://pytorch.org/tutorials/intermediate/reinforcement_q_learning.html"
   ]
  },
  {
   "cell_type": "code",
   "execution_count": 8,
   "metadata": {},
   "outputs": [],
   "source": [
    "Transition = namedtuple('Transition',\n",
    "                        ('state', 'action', 'next_state', 'reward', 'done'))\n",
    "\n",
    "\n",
    "class ReplayMemory(object):\n",
    "    def __init__(self, capacity):\n",
    "        self.capacity = capacity\n",
    "        self.memory = []\n",
    "        self.position = 0\n",
    "\n",
    "    def push(self, *args):\n",
    "        if len(self.memory) < self.capacity:\n",
    "            self.memory.append(None)\n",
    "        self.memory[self.position] = Transition(*args)\n",
    "        self.position = (self.position + 1) % self.capacity\n",
    "\n",
    "    def sample(self, batch_size):\n",
    "        return random.sample(self.memory, batch_size)\n",
    "\n",
    "    def __len__(self):\n",
    "        return len(self.memory)"
   ]
  },
  {
   "cell_type": "code",
   "execution_count": 9,
   "metadata": {},
   "outputs": [],
   "source": [
    "class DQN(nn.Module):\n",
    "    def __init__(self, states_len, actions_len):\n",
    "        super(DQN, self).__init__()\n",
    "        self.fc1 = nn.Linear(states_len, states_len//2)\n",
    "        self.fc2 = nn.Linear(states_len//2, states_len//4)\n",
    "        self.fc3 = nn.Linear(states_len//4, actions_len)\n",
    "\n",
    "    def forward(self, x):\n",
    "        x = self.fc1(x)\n",
    "        x = F.relu(x)\n",
    "        x = self.fc2(x)\n",
    "        x = F.relu(x)\n",
    "        x = self.fc3(x)\n",
    "        return x"
   ]
  },
  {
   "cell_type": "code",
   "execution_count": 10,
   "metadata": {},
   "outputs": [],
   "source": [
    "class DQNAgent(object):\n",
    "    def __init__(self, states_len, actions_len, replay_buffer_size=50000,\n",
    "                 batch_size=32, hidden_size=12, gamma=0.98):\n",
    "        self.actions_len = actions_len\n",
    "        self.states_len = states_len\n",
    "        self.batch_size = batch_size\n",
    "        self.gamma  = gamma\n",
    "        self.memory = ReplayMemory(replay_buffer_size)\n",
    "        self.device = 'cuda' if torch.cuda.is_available() else 'cpu'\n",
    "        print('Device is ', self.device)\n",
    "        \n",
    "        self.policy_net = DQN(self.states_len, self.actions_len).to(self.device)\n",
    "        self.target_net = DQN(self.states_len, self.actions_len).to(self.device)\n",
    "        self.target_net.load_state_dict(self.policy_net.state_dict())\n",
    "        self.target_net.eval()\n",
    "\n",
    "        self.optimizer = optim.RMSprop(self.policy_net.parameters(), lr=1e-3)\n",
    "#         self.optimizer = optim.Adam(self.policy_net.parameters(), lr=1e-3)\n",
    "        \n",
    "\n",
    "    def update_network(self):\n",
    "        if len(self.memory) < self.batch_size:\n",
    "            return\n",
    "        transitions = self.memory.sample(self.batch_size)\n",
    "        batch = Transition(*zip(*transitions))\n",
    "\n",
    "        non_final_mask = 1 - torch.tensor(batch.done, dtype=torch.uint8)\n",
    "        non_final_next_states = [s for nonfinal,s in zip(non_final_mask,\n",
    "                                     batch.next_state) if nonfinal > 0]\n",
    "        non_final_next_states = torch.stack(non_final_next_states).to(self.device)\n",
    "        \n",
    "        state_batch = torch.stack(batch.state).to(self.device)\n",
    "        action_batch = torch.cat(batch.action).to(self.device)\n",
    "        reward_batch = torch.cat(batch.reward).to(self.device)\n",
    "\n",
    "        self.optimizer.zero_grad()\n",
    "        # Compute Q(s_t, a) - the model computes Q(s_t), then we select the\n",
    "        # columns of actions taken. These are the actions which would've been taken\n",
    "        # for each batch state according to policy_net\n",
    "        state_action_values = self.policy_net(state_batch).gather(1, action_batch)\n",
    "        \n",
    "        # Compute V(s_{t+1}) for all next states.\n",
    "        # Expected values of actions for non_final_next_states are computed based\n",
    "        # on the \"older\" target_net; selecting their best reward with max(1)[0].\n",
    "        # This is merged based on the mask, such that we'll have either the expected\n",
    "        # state value or 0 in case the state was final.\n",
    "        # about detach(): https://discuss.pytorch.org/t/detach-no-grad-and-requires-grad/16915/7\n",
    "        next_state_values = torch.zeros(self.batch_size).to(self.device)\n",
    "        next_state_values[non_final_mask] = self.target_net(non_final_next_states).max(1)[0].detach()\n",
    "        expected_state_action_values = reward_batch + self.gamma * next_state_values\n",
    "        \n",
    "        # Compute Huber loss\n",
    "        loss = F.smooth_l1_loss(state_action_values.squeeze(),\n",
    "                                expected_state_action_values)\n",
    "\n",
    "        # Optimize the model\n",
    "        loss.backward()\n",
    "        for param in self.policy_net.parameters():\n",
    "            param.grad.data.clamp_(-1e-1, 1e-1)\n",
    "        self.optimizer.step()\n",
    "\n",
    "    def get_action(self, state, epsilon=0.05):\n",
    "        sample = random.random()\n",
    "        if sample > epsilon:\n",
    "            with torch.no_grad():\n",
    "                state = torch.from_numpy(state).float().to(self.device)\n",
    "                q_values = self.policy_net(state).to(self.device)\n",
    "                return torch.argmax(q_values).item()\n",
    "        else:\n",
    "            return random.randrange(self.actions_len)\n",
    "\n",
    "    def update_target_network(self):\n",
    "        self.target_net.load_state_dict(self.policy_net.state_dict())\n",
    "\n",
    "    def store_transition(self, state, action, next_state, reward, done):\n",
    "        next_state = torch.from_numpy(np.array(next_state, dtype='float32'))\n",
    "        state = torch.from_numpy(np.array(state, dtype='float32'))\n",
    "        action = torch.Tensor([[action]]).long()\n",
    "        reward = torch.tensor([reward], dtype=torch.float32)\n",
    "        self.memory.push(state, action, next_state, reward, done)\n",
    "        \n",
    "    def save_model(self, filename):\n",
    "        torch.save(self.policy_net.state_dict(), filename)\n",
    "        \n",
    "    def load_model(self, filename):\n",
    "        self.policy_net.load_state_dict(torch.load(filename))"
   ]
  },
  {
   "cell_type": "code",
   "execution_count": 11,
   "metadata": {},
   "outputs": [
    {
     "data": {
      "text/plain": [
       "<torch._C.Generator at 0x7fc4c002d6f0>"
      ]
     },
     "execution_count": 11,
     "metadata": {},
     "output_type": "execute_result"
    }
   ],
   "source": [
    "EPS_START = 1\n",
    "EPS_END   = 0.001\n",
    "EPS_DECAY = 200\n",
    "TARGET_UPDATE = 10\n",
    "\n",
    "episodes  = 1000\n",
    "gamma     = 0.999\n",
    "replay_buffer_size = 10000\n",
    "batch_size = 64\n",
    "\n",
    "health_print_every = 100\n",
    "checkpointfile = 'banana.ckpt'\n",
    "torch.manual_seed(2019)"
   ]
  },
  {
   "cell_type": "code",
   "execution_count": 12,
   "metadata": {},
   "outputs": [
    {
     "name": "stdout",
     "output_type": "stream",
     "text": [
      "Device is  cuda\n",
      "Policy Network is  DQN(\n",
      "  (fc1): Linear(in_features=37, out_features=18, bias=True)\n",
      "  (fc2): Linear(in_features=18, out_features=9, bias=True)\n",
      "  (fc3): Linear(in_features=9, out_features=4, bias=True)\n",
      ")\n"
     ]
    }
   ],
   "source": [
    "actions_len = action_size\n",
    "state_space_dim = state_size\n",
    "hidden_layer = state_size // 2\n",
    "\n",
    "agent = DQNAgent(state_space_dim, actions_len, replay_buffer_size, batch_size,\n",
    "                  hidden_layer, gamma)\n",
    "\n",
    "print('Policy Network is ', agent.policy_net)"
   ]
  },
  {
   "cell_type": "code",
   "execution_count": 13,
   "metadata": {},
   "outputs": [],
   "source": [
    "# From https://stackoverflow.com/questions/22373927/get-traceback-of-warnings \n",
    "# in order to ignore PyTorch complaining about unit8/bool warnings\n",
    "import warnings\n",
    "warnings.simplefilter(\"error\")\n",
    "warnings.simplefilter(\"ignore\", UserWarning)"
   ]
  },
  {
   "cell_type": "code",
   "execution_count": 14,
   "metadata": {},
   "outputs": [
    {
     "name": "stdout",
     "output_type": "stream",
     "text": [
      "  100/1000: Score = 0.00 << Last 100 Avg = 3.78, Max Avg = 3.88 >> Time Elapsed = 0:02:00.557771      \n",
      "  200/1000: Score = 11.00 << Last 100 Avg = 8.83, Max Avg = 8.83 >> Time Elapsed = 0:04:02.037656    \n",
      "  300/1000: Score = 10.00 << Last 100 Avg = 11.31, Max Avg = 11.36 >> Time Elapsed = 0:06:02.983556    \n",
      "  384/1000: Score = 12.00 << Last 100 Avg = 13.03, Max Avg = 13.03 >> Time Elapsed = 0:07:44.522643    \n",
      "\n",
      "Solved in 384 episodes - Received an average score of 13.03 in last 100\n",
      "Training completed. Model saved to banana.ckpt\n"
     ]
    }
   ],
   "source": [
    "scores     = []\n",
    "avg_score, max_avg_score = None, None\n",
    "steps_done = 1\n",
    "\n",
    "t = TicToc()\n",
    "t.tic()\n",
    "for ep in range(1, episodes + 1):\n",
    "    env_info = env.reset(train_mode=True)[brain_name]\n",
    "    state = env_info.vector_observations[0]\n",
    "    done  = False\n",
    "    eps   = EPS_END + (EPS_START - EPS_END) * math.exp(-1. * steps_done / EPS_DECAY)\n",
    "    rewards = 0\n",
    "    while not done:\n",
    "        action   = agent.get_action(state, eps)\n",
    "        env_info = env.step(action)[brain_name]        # send the action to the environment\n",
    "        next_state = env_info.vector_observations[0]   # get the next state\n",
    "        reward   = env_info.rewards[0]                 # get the reward\n",
    "        done     = env_info.local_done[0]              # see if episode has finished\n",
    "        rewards += reward\n",
    "\n",
    "        agent.store_transition(state, action, next_state, reward, done)\n",
    "        agent.update_network()\n",
    "\n",
    "        state = next_state\n",
    "        steps_done += 1\n",
    "\n",
    "    scores.append(rewards)\n",
    "    avg_score = np.mean(scores[-100:])\n",
    "    elapsed   = str(datetime.timedelta(seconds = t.tocvalue())) \n",
    "    \n",
    "    if max_avg_score is None or max_avg_score < avg_score:\n",
    "        max_avg_score = avg_score\n",
    "        \n",
    "    print(f'\\r{ep:5d}/{episodes}: Score = {rewards:3.2f} << Last 100 Avg = {avg_score:3.2f}, Max Avg = {max_avg_score:3.2f} >> Time Elapsed = {elapsed}    ', end='')\n",
    "    \n",
    "    if avg_score > 13.0:\n",
    "        print(f'\\n\\nSolved in {ep} episodes - Received an average score of {avg_score:4.2f} in last 100')\n",
    "        agent.save_model(checkpointfile)\n",
    "        break\n",
    "\n",
    "    if ep % TARGET_UPDATE == 0:\n",
    "        if ep % health_print_every == 0:\n",
    "            print('')\n",
    "        agent.update_target_network()\n",
    "\n",
    "print(f'Training completed. Model saved to {checkpointfile}')"
   ]
  },
  {
   "cell_type": "code",
   "execution_count": 15,
   "metadata": {},
   "outputs": [
    {
     "data": {
      "text/plain": [
       "[<matplotlib.lines.Line2D at 0x7fc45c1e99b0>]"
      ]
     },
     "execution_count": 15,
     "metadata": {},
     "output_type": "execute_result"
    },
    {
     "data": {
      "image/png": "[encoded data removed]",
      "text/plain": [
       "<Figure size 432x288 with 1 Axes>"
      ]
     },
     "metadata": {
      "needs_background": "light"
     },
     "output_type": "display_data"
    }
   ],
   "source": [
    "plt.title('Training Progress')\n",
    "plt.xlabel('Episode')\n",
    "plt.ylabel('Reward')\n",
    "plt.grid(True)\n",
    "plt.plot(scores)"
   ]
  },
  {
   "cell_type": "code",
   "execution_count": 16,
   "metadata": {},
   "outputs": [
    {
     "name": "stdout",
     "output_type": "stream",
     "text": [
      "Device is  cuda\n",
      "Game  1: Total Score = 16.00 Done after 29.93 seconds\n",
      "Game  2: Total Score = 13.00 Done after 59.97 seconds\n",
      "Game  3: Total Score = 14.00 Done after 90.00 seconds\n",
      "Game  4: Total Score = 18.00 Done after 120.02 seconds\n",
      "Game  5: Total Score = 13.00 Done after 150.03 seconds\n",
      "All 5 games played\n"
     ]
    }
   ],
   "source": [
    "# Play the game with learned model\n",
    "games = 5\n",
    "\n",
    "agent = DQNAgent(state_space_dim, actions_len, replay_buffer_size, batch_size, hidden_layer, gamma)\n",
    "agent.load_model(checkpointfile)\n",
    "t = TicToc()\n",
    "t.tic()\n",
    "for game in range(1, games + 1):\n",
    "    env_info = env.reset(train_mode=False)[brain_name] # reset the environment\n",
    "    state = env_info.vector_observations[0]            # get the current state\n",
    "    score = 0                                          # initialize the score\n",
    "    while True:\n",
    "        action = agent.get_action(state)               # select an action\n",
    "        env_info = env.step(action)[brain_name]        # send the action to the environment\n",
    "        next_state = env_info.vector_observations[0]   # get the next state\n",
    "        reward = env_info.rewards[0]                   # get the reward\n",
    "        done = env_info.local_done[0]                  # see if episode has finished\n",
    "        score += reward                                # update the score\n",
    "        state = next_state                             # roll over the state to next time step\n",
    "        print(f'\\rGame {game:2d}: Total Score = {score:4.2f}', end='')\n",
    "        if done:                                       # exit loop if episode finished\n",
    "            print(f' Done after {t.tocvalue():5.2f} seconds')\n",
    "            break\n",
    "print(f'All {games} games played')"
   ]
  },
  {
   "cell_type": "code",
   "execution_count": 17,
   "metadata": {},
   "outputs": [],
   "source": [
    "env.close()"
   ]
  }
 ],
 "metadata": {
  "kernelspec": {
   "display_name": "drlnd",
   "language": "python",
   "name": "drlnd"
  },
  "language_info": {
   "codemirror_mode": {
    "name": "ipython",
    "version": 3
   },
   "file_extension": ".py",
   "mimetype": "text/x-python",
   "name": "python",
   "nbconvert_exporter": "python",
   "pygments_lexer": "ipython3",
   "version": "3.6.9"
  }
 },
 "nbformat": 4,
 "nbformat_minor": 2
}
